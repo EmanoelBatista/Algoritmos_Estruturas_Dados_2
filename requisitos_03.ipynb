{
  "nbformat": 4,
  "nbformat_minor": 0,
  "metadata": {
    "colab": {
      "provenance": [],
      "authorship_tag": "ABX9TyNGhnEkzOcb4rAFTb9ZUy0R",
      "include_colab_link": true
    },
    "kernelspec": {
      "name": "python3",
      "display_name": "Python 3"
    },
    "language_info": {
      "name": "python"
    }
  },
  "cells": [
    {
      "cell_type": "markdown",
      "metadata": {
        "id": "view-in-github",
        "colab_type": "text"
      },
      "source": [
        "<a href=\"https://colab.research.google.com/github/EmanoelBatista/Algoritmos_Estruturas_Dados_2/blob/main/requisitos_03.ipynb\" target=\"_parent\"><img src=\"https://colab.research.google.com/assets/colab-badge.svg\" alt=\"Open In Colab\"/></a>"
      ]
    },
    {
      "cell_type": "markdown",
      "source": [
        "#Requisitos 03\n",
        "\n",
        "##Objetivo:\n",
        "- Reproduzir a tabela disponibilizada no documento do trabalho.\n",
        "- Implementar a tabela no formato markdown juntamente com a interpretação dos resultados cuja o texto deverá ter entre 500 a 1000 palavras.\n",
        "- Pontos a serem analisados:\n",
        " - Quantidade de vértices.\n",
        " - Quantidade de arestas.\n",
        " - degree assortativity coefficient.\n",
        " - Quantidade de componentes conectados.\n",
        " - Tamanho do componente gigante (GCC).\n",
        " - Coeficiente de clustering."
      ],
      "metadata": {
        "id": "lxgcqWH4W1vq"
      }
    },
    {
      "cell_type": "code",
      "execution_count": null,
      "metadata": {
        "id": "R1flzBN2Wqyi"
      },
      "outputs": [],
      "source": [
        "# Importando bibliotecas.\n",
        "import networkx as nx"
      ]
    },
    {
      "cell_type": "markdown",
      "source": [
        "# Networks with ground-truth communities (com-Youtube)"
      ],
      "metadata": {
        "id": "gDweiJQuVbbd"
      }
    },
    {
      "cell_type": "code",
      "source": [
        "# Fazendo os download da rede.\n",
        "!wget https://snap.stanford.edu/data/bigdata/communities/com-youtube.ungraph.txt.gz\n",
        "\n",
        "# Cria um grafo direcionado (DiGraph) a partir dos dados do arquivo baixado\n",
        "com_youtube = nx.read_edgelist('com-youtube.ungraph.txt.gz', create_using=nx.DiGraph(), data=False)\n",
        "\n",
        "# Quantidade de vértices\n",
        "num_nodes = len(com_youtube.nodes())\n",
        "\n",
        "# Quantidade de arestas\n",
        "num_edges = len(com_youtube.edges())\n",
        "\n",
        "# degree assortativity coefficient\n",
        "degree_assortativity = nx.degree_assortativity_coefficient(com_youtube)\n",
        "\n",
        "# Quantidade de componentes conectados\n",
        "connected_components = list(nx.strongly_connected_components(com_youtube))\n",
        "num_connected_components = len(connected_components)\n",
        "\n",
        "# Tamanho do componente gigante (GCC)\n",
        "gcc = max(connected_components, key=len)\n",
        "gcc_size = len(gcc)\n",
        "\n",
        "# Coeficiente de clustering.\n",
        "clustering_coefficient = nx.average_clustering(com_youtube)\n",
        "\n",
        "# Imprimir os valores calculados\n",
        "print(f\"Quantidade de vértices: {num_nodes}\")\n",
        "print(f\"Quantidade de arestas: {num_edges}\")\n",
        "print(f\"Degree Assortativity Coefficient: {degree_assortativity}\")\n",
        "print(f\"Quantidade de componentes conectados: {num_connected_components}\")\n",
        "print(f\"Tamanho do Componente Gigante (GCC): {gcc_size}\")\n",
        "print(f\"Coeficiente de Clustering: {clustering_coefficient}\")"
      ],
      "metadata": {
        "colab": {
          "base_uri": "https://localhost:8080/"
        },
        "id": "61O6DqdHX-wG",
        "outputId": "c5638c52-5bd4-42af-9af9-1423cf19c669"
      },
      "execution_count": null,
      "outputs": [
        {
          "output_type": "stream",
          "name": "stdout",
          "text": [
            "--2023-11-05 03:28:17--  https://snap.stanford.edu/data/bigdata/communities/com-youtube.ungraph.txt.gz\n",
            "Resolving snap.stanford.edu (snap.stanford.edu)... 171.64.75.80\n",
            "Connecting to snap.stanford.edu (snap.stanford.edu)|171.64.75.80|:443... connected.\n",
            "HTTP request sent, awaiting response... 200 OK\n",
            "Length: 10590328 (10M) [application/x-gzip]\n",
            "Saving to: ‘com-youtube.ungraph.txt.gz’\n",
            "\n",
            "com-youtube.ungraph 100%[===================>]  10.10M  3.83MB/s    in 2.6s    \n",
            "\n",
            "2023-11-05 03:28:20 (3.83 MB/s) - ‘com-youtube.ungraph.txt.gz’ saved [10590328/10590328]\n",
            "\n",
            "Quantidade de vértices: 1134890\n",
            "Quantidade de arestas: 2987624\n",
            "Degree Assortativity Coefficient: -0.028332126333519572\n",
            "Quantidade de componentes conectados: 1134890\n",
            "Tamanho do Componente Gigante (GCC): 1\n",
            "Coeficiente de Clustering: 0.04040113888093932\n"
          ]
        }
      ]
    },
    {
      "cell_type": "markdown",
      "source": [
        "# Collaboration networks (ca-AstroPh)"
      ],
      "metadata": {
        "id": "Xf2fDEMGVqyb"
      }
    },
    {
      "cell_type": "code",
      "source": [
        "# Fazendo os download da rede.\n",
        "!wget https://snap.stanford.edu/data/ca-AstroPh.txt.gz\n",
        "\n",
        "# Cria um grafo direcionado (DiGraph) a partir dos dados do arquivo baixado\n",
        "ca_AstroPh = nx.read_edgelist('ca-AstroPh.txt.gz', create_using=nx.DiGraph(), data=False)\n",
        "\n",
        "# Quantidade de vértices\n",
        "num_nodes = len(ca_AstroPh.nodes())\n",
        "\n",
        "# Quantidade de arestas\n",
        "num_edges = len(ca_AstroPh.edges())\n",
        "\n",
        "# degree assortativity coefficient\n",
        "degree_assortativity = nx.degree_assortativity_coefficient(ca_AstroPh)\n",
        "\n",
        "# Quantidade de componentes conectados\n",
        "connected_components = list(nx.strongly_connected_components(ca_AstroPh))\n",
        "num_connected_components = len(connected_components)\n",
        "\n",
        "# Tamanho do componente gigante (GCC)\n",
        "gcc = max(connected_components, key=len)\n",
        "gcc_size = len(gcc)\n",
        "\n",
        "# Coeficiente de clustering.\n",
        "clustering_coefficient = nx.average_clustering(ca_AstroPh)\n",
        "\n",
        "# Imprimir os valores calculados\n",
        "print(f\"Quantidade de vértices: {num_nodes}\")\n",
        "print(f\"Quantidade de arestas: {num_edges}\")\n",
        "print(f\"Degree Assortativity Coefficient: {degree_assortativity}\")\n",
        "print(f\"Quantidade de componentes conectados: {num_connected_components}\")\n",
        "print(f\"Tamanho do Componente Gigante (GCC): {gcc_size}\")\n",
        "print(f\"Coeficiente de Clustering: {clustering_coefficient}\")"
      ],
      "metadata": {
        "colab": {
          "base_uri": "https://localhost:8080/"
        },
        "id": "kjTIaMytPU82",
        "outputId": "db4ad0eb-e6dd-4de6-b7b6-15353f8fe588"
      },
      "execution_count": null,
      "outputs": [
        {
          "output_type": "stream",
          "name": "stdout",
          "text": [
            "--2023-11-05 03:35:20--  https://snap.stanford.edu/data/ca-AstroPh.txt.gz\n",
            "Resolving snap.stanford.edu (snap.stanford.edu)... 171.64.75.80\n",
            "Connecting to snap.stanford.edu (snap.stanford.edu)|171.64.75.80|:443... connected.\n",
            "HTTP request sent, awaiting response... 200 OK\n",
            "Length: 1453950 (1.4M) [application/x-gzip]\n",
            "Saving to: ‘ca-AstroPh.txt.gz’\n",
            "\n",
            "ca-AstroPh.txt.gz   100%[===================>]   1.39M  1.07MB/s    in 1.3s    \n",
            "\n",
            "2023-11-05 03:35:22 (1.07 MB/s) - ‘ca-AstroPh.txt.gz’ saved [1453950/1453950]\n",
            "\n",
            "Quantidade de vértices: 18772\n",
            "Quantidade de arestas: 396160\n",
            "Degree Assortativity Coefficient: 0.20518714346398922\n",
            "Quantidade de componentes conectados: 290\n",
            "Tamanho do Componente Gigante (GCC): 17903\n",
            "Coeficiente de Clustering: 0.6305932411707943\n"
          ]
        }
      ]
    },
    {
      "cell_type": "markdown",
      "source": [
        "# Web graphs (web-Google)"
      ],
      "metadata": {
        "id": "e3oxl2WQVsaq"
      }
    },
    {
      "cell_type": "code",
      "source": [
        "# Fazendo os download da rede.\n",
        "!wget https://snap.stanford.edu/data/web-Google.txt.gz\n",
        "\n",
        "# Cria um grafo direcionado (DiGraph) a partir dos dados do arquivo baixado\n",
        "web_Google = nx.read_edgelist('web-Google.txt.gz', create_using=nx.DiGraph(), data=False)\n",
        "\n",
        "# Quantidade de vértices\n",
        "num_nodes = len(web_Google.nodes())\n",
        "\n",
        "# Quantidade de arestas\n",
        "num_edges = len(web_Google.edges())\n",
        "\n",
        "# degree assortativity coefficient\n",
        "degree_assortativity = nx.degree_assortativity_coefficient(web_Google)\n",
        "\n",
        "# Quantidade de componentes conectados\n",
        "connected_components = list(nx.strongly_connected_components(web_Google))\n",
        "num_connected_components = len(connected_components)\n",
        "\n",
        "# Tamanho do componente gigante (GCC)\n",
        "gcc = max(connected_components, key=len)\n",
        "gcc_size = len(gcc)\n",
        "\n",
        "# Coeficiente de clustering.\n",
        "clustering_coefficient = nx.average_clustering(web_Google)\n",
        "\n",
        "# Imprimir os valores calculados\n",
        "print(f\"Quantidade de vértices: {num_nodes}\")\n",
        "print(f\"Quantidade de arestas: {num_edges}\")\n",
        "print(f\"Degree Assortativity Coefficient: {degree_assortativity}\")\n",
        "print(f\"Quantidade de componentes conectados: {num_connected_components}\")\n",
        "print(f\"Tamanho do Componente Gigante (GCC): {gcc_size}\")\n",
        "print(f\"Coeficiente de Clustering: {clustering_coefficient}\")"
      ],
      "metadata": {
        "colab": {
          "base_uri": "https://localhost:8080/"
        },
        "id": "QTAFia091yEv",
        "outputId": "b9cc412e-d9fe-463d-b217-36362870cad4"
      },
      "execution_count": null,
      "outputs": [
        {
          "output_type": "stream",
          "name": "stdout",
          "text": [
            "--2023-11-05 03:35:51--  https://snap.stanford.edu/data/web-Google.txt.gz\n",
            "Resolving snap.stanford.edu (snap.stanford.edu)... 171.64.75.80\n",
            "Connecting to snap.stanford.edu (snap.stanford.edu)|171.64.75.80|:443... connected.\n",
            "HTTP request sent, awaiting response... 200 OK\n",
            "Length: 21168784 (20M) [application/x-gzip]\n",
            "Saving to: ‘web-Google.txt.gz’\n",
            "\n",
            "web-Google.txt.gz   100%[===================>]  20.19M  2.77MB/s    in 8.6s    \n",
            "\n",
            "2023-11-05 03:36:00 (2.35 MB/s) - ‘web-Google.txt.gz’ saved [21168784/21168784]\n",
            "\n",
            "Quantidade de vértices: 875713\n",
            "Quantidade de arestas: 5105039\n",
            "Degree Assortativity Coefficient: -0.06520019402435487\n",
            "Quantidade de componentes conectados: 371764\n",
            "Tamanho do Componente Gigante (GCC): 434818\n",
            "Coeficiente de Clustering: 0.3698306814797672\n"
          ]
        }
      ]
    },
    {
      "cell_type": "markdown",
      "source": [
        "# Location-based online social networks (loc-Gowalla)"
      ],
      "metadata": {
        "id": "jC1J6nnNVv9x"
      }
    },
    {
      "cell_type": "code",
      "source": [
        "# Fazendo os download da rede.\n",
        "!wget https://snap.stanford.edu/data/loc-gowalla_edges.txt.gz\n",
        "\n",
        "# Cria um grafo direcionado (DiGraph) a partir dos dados do arquivo baixado\n",
        "loc_gowalla = nx.read_edgelist('loc-gowalla_edges.txt.gz', create_using=nx.DiGraph(), data=False)\n",
        "\n",
        "# Quantidade de vértices\n",
        "num_nodes = len(loc_gowalla.nodes())\n",
        "\n",
        "# Quantidade de arestas\n",
        "num_edges = len(loc_gowalla.edges())\n",
        "\n",
        "# degree assortativity coefficient\n",
        "degree_assortativity = nx.degree_assortativity_coefficient(loc_gowalla)\n",
        "\n",
        "# Quantidade de componentes conectados\n",
        "connected_components = list(nx.strongly_connected_components(loc_gowalla))\n",
        "num_connected_components = len(connected_components)\n",
        "\n",
        "# Tamanho do componente gigante (GCC)\n",
        "gcc = max(connected_components, key=len)\n",
        "gcc_size = len(gcc)\n",
        "\n",
        "# Coeficiente de clustering.\n",
        "clustering_coefficient = nx.average_clustering(loc_gowalla)\n",
        "\n",
        "# Imprimir os valores calculados\n",
        "print(f\"Quantidade de vértices: {num_nodes}\")\n",
        "print(f\"Quantidade de arestas: {num_edges}\")\n",
        "print(f\"Degree Assortativity Coefficient: {degree_assortativity}\")\n",
        "print(f\"Quantidade de componentes conectados: {num_connected_components}\")\n",
        "print(f\"Tamanho do Componente Gigante (GCC): {gcc_size}\")\n",
        "print(f\"Coeficiente de Clustering: {clustering_coefficient}\")"
      ],
      "metadata": {
        "colab": {
          "base_uri": "https://localhost:8080/"
        },
        "id": "n8BZ_BPeSbVh",
        "outputId": "78e0b26f-2159-403e-d9c4-952bbe4976b0"
      },
      "execution_count": null,
      "outputs": [
        {
          "output_type": "stream",
          "name": "stdout",
          "text": [
            "--2023-11-05 03:40:58--  https://snap.stanford.edu/data/loc-gowalla_edges.txt.gz\n",
            "Resolving snap.stanford.edu (snap.stanford.edu)... 171.64.75.80\n",
            "Connecting to snap.stanford.edu (snap.stanford.edu)|171.64.75.80|:443... connected.\n",
            "HTTP request sent, awaiting response... 200 OK\n",
            "Length: 6351523 (6.1M) [application/x-gzip]\n",
            "Saving to: ‘loc-gowalla_edges.txt.gz’\n",
            "\n",
            "loc-gowalla_edges.t 100%[===================>]   6.06M  2.47MB/s    in 2.5s    \n",
            "\n",
            "2023-11-05 03:41:01 (2.47 MB/s) - ‘loc-gowalla_edges.txt.gz’ saved [6351523/6351523]\n",
            "\n",
            "Quantidade de vértices: 196591\n",
            "Quantidade de arestas: 1900654\n",
            "Degree Assortativity Coefficient: -0.02925474163485361\n",
            "Quantidade de componentes conectados: 1\n",
            "Tamanho do Componente Gigante (GCC): 196591\n",
            "Coeficiente de Clustering: 0.23672372971033598\n"
          ]
        }
      ]
    },
    {
      "cell_type": "markdown",
      "source": [
        "# Temporal networks (sx-askubuntu)"
      ],
      "metadata": {
        "id": "mRyEk065V09X"
      }
    },
    {
      "cell_type": "code",
      "source": [
        "# Fazendo os download da rede.\n",
        "!wget https://snap.stanford.edu/data/sx-askubuntu.txt.gz\n",
        "\n",
        "# Cria um grafo direcionado (DiGraph) a partir dos dados do arquivo baixado\n",
        "sx_askubuntu = nx.read_edgelist('sx-askubuntu.txt.gz', create_using=nx.DiGraph(), data=False)\n",
        "\n",
        "# Quantidade de vértices\n",
        "num_nodes = len(sx_askubuntu.nodes())\n",
        "\n",
        "# Quantidade de arestas\n",
        "num_edges = len(sx_askubuntu.edges())\n",
        "\n",
        "# degree assortativity coefficient\n",
        "degree_assortativity = nx.degree_assortativity_coefficient(sx_askubuntu)\n",
        "\n",
        "# Quantidade de componentes conectados\n",
        "connected_components = list(nx.strongly_connected_components(sx_askubuntu))\n",
        "num_connected_components = len(connected_components)\n",
        "\n",
        "# Tamanho do componente gigante (GCC)\n",
        "gcc = max(connected_components, key=len)\n",
        "gcc_size = len(gcc)\n",
        "\n",
        "# Coeficiente de clustering.\n",
        "clustering_coefficient = nx.average_clustering(sx_askubuntu)\n",
        "\n",
        "# Imprimir os valores calculados\n",
        "print(f\"Quantidade de vértices: {num_nodes}\")\n",
        "print(f\"Quantidade de arestas: {num_edges}\")\n",
        "print(f\"Degree Assortativity Coefficient: {degree_assortativity}\")\n",
        "print(f\"Quantidade de componentes conectados: {num_connected_components}\")\n",
        "print(f\"Tamanho do Componente Gigante (GCC): {gcc_size}\")\n",
        "print(f\"Coeficiente de Clustering: {clustering_coefficient}\")"
      ],
      "metadata": {
        "colab": {
          "base_uri": "https://localhost:8080/"
        },
        "id": "uvH1UiAc1ysW",
        "outputId": "b04e97c8-78a7-4dca-dc99-dbbfe909e252"
      },
      "execution_count": null,
      "outputs": [
        {
          "output_type": "stream",
          "name": "stdout",
          "text": [
            "--2023-11-05 04:15:44--  https://snap.stanford.edu/data/sx-askubuntu.txt.gz\n",
            "Resolving snap.stanford.edu (snap.stanford.edu)... 171.64.75.80\n",
            "Connecting to snap.stanford.edu (snap.stanford.edu)|171.64.75.80|:443... connected.\n",
            "HTTP request sent, awaiting response... 200 OK\n",
            "Length: 7385842 (7.0M) [application/x-gzip]\n",
            "Saving to: ‘sx-askubuntu.txt.gz’\n",
            "\n",
            "sx-askubuntu.txt.gz 100%[===================>]   7.04M  2.87MB/s    in 2.5s    \n",
            "\n",
            "2023-11-05 04:15:47 (2.87 MB/s) - ‘sx-askubuntu.txt.gz’ saved [7385842/7385842]\n",
            "\n",
            "Quantidade de vértices: 159316\n",
            "Quantidade de arestas: 596933\n",
            "Degree Assortativity Coefficient: -0.10278842628952252\n",
            "Quantidade de componentes conectados: 97174\n",
            "Tamanho do Componente Gigante (GCC): 59813\n",
            "Coeficiente de Clustering: 0.07696177166103574\n"
          ]
        }
      ]
    }
  ]
}